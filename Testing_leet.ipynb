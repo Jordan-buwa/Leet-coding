{
 "cells": [
  {
   "cell_type": "markdown",
   "metadata": {},
   "source": [
    "# LeetCode Function Tests\n",
    "\n",
    "This notebook demonstrates and tests all functions in the `LeetCode` class."
   ]
  },
  {
   "cell_type": "code",
   "execution_count": 85,
   "metadata": {},
   "outputs": [],
   "source": [
    "from leet_code import LeetCode as lc\n",
    "lc = lc()"
   ]
  },
  {
   "cell_type": "markdown",
   "metadata": {},
   "source": [
    "## 1. Palindrome Check for Integers"
   ]
  },
  {
   "cell_type": "code",
   "execution_count": 86,
   "metadata": {},
   "outputs": [
    {
     "name": "stdout",
     "output_type": "stream",
     "text": [
      "False\n",
      "True\n",
      "True\n",
      "True\n",
      "True\n",
      "True\n",
      "False\n"
     ]
    }
   ],
   "source": [
    "# Testing the palindrome number function\n",
    "print(lc.isPalindrome(10))   # Expected: False\n",
    "print(lc.isPalindrome(0))    # Expected: True\n",
    "print(lc.isPalindrome(1))    # Expected: True\n",
    "print(lc.isPalindrome(11))   # Expected: True\n",
    "print(lc.isPalindrome(12321)) # Expected: True\n",
    "print(lc.isPalindrome(121))  # Expected: True\n",
    "print(lc.isPalindrome(-121)) # Expected: False"
   ]
  },
  {
   "cell_type": "markdown",
   "metadata": {},
   "source": [
    "## 2. Two Sum Problem Solver"
   ]
  },
  {
   "cell_type": "code",
   "execution_count": 87,
   "metadata": {},
   "outputs": [
    {
     "name": "stdout",
     "output_type": "stream",
     "text": [
      "[0, 1]\n",
      "[1, 2]\n",
      "[0, 1]\n",
      "[3, 4]\n",
      "[0, 4]\n"
     ]
    }
   ],
   "source": [
    "# Testing twoSum function with various inputs\n",
    "\n",
    "print(lc.twoSum([2,7,11,15], 9))  # Expected: [0, 1]\n",
    "print(lc.twoSum([3,2,4], 6))     # Expected: [1, 2]\n",
    "print(lc.twoSum([3,3], 6))       # Expected: [0, 1]\n",
    "print(lc.twoSum([1,2,3,4,5], 9))  # Expected: [3, 4]\n",
    "print(lc.twoSum([2,7,6,1,4], 6))  # Expected: [0, 4] "
   ]
  },
  {
   "cell_type": "markdown",
   "metadata": {},
   "source": [
    "## 3. Remove Duplicates from Sorted Array"
   ]
  },
  {
   "cell_type": "code",
   "execution_count": 88,
   "metadata": {},
   "outputs": [
    {
     "name": "stdout",
     "output_type": "stream",
     "text": [
      "9\n",
      "[1, 2, 3, 4, 5, 6, 7, 8, 9]\n"
     ]
    }
   ],
   "source": [
    "# Testing the removeDuplicates function\n",
    "\n",
    "nums = [1,1,1,1,2,2,3,3,4,4,5,6,7,7,8,8,9]\n",
    "k = lc.removeDuplicates(nums)\n",
    "print(k)  # Expected: 9\n",
    "print(nums[:k])  # Expected: [1,2,3,4,5,6,7,8,9]"
   ]
  },
  {
   "cell_type": "markdown",
   "metadata": {},
   "source": [
    "## 4. Increment Integer Represented as a List of Digits"
   ]
  },
  {
   "cell_type": "code",
   "execution_count": 89,
   "metadata": {},
   "outputs": [
    {
     "name": "stdout",
     "output_type": "stream",
     "text": [
      "[1, 2, 4]\n",
      "[1]\n",
      "[1, 1, 0]\n",
      "[1, 3, 0]\n",
      "[1, 0, 0, 1]\n",
      "[1, 0, 0, 0]\n",
      "[1, 0, 0, 2]\n",
      "[1, 0]\n"
     ]
    }
   ],
   "source": [
    "# Testing the plusOne function\n",
    "\n",
    "print(lc.plusOne([1,2,3]))  # Expected: [1,2,4]\n",
    "print(lc.plusOne([0]))  # Expected: [1]\n",
    "print(lc.plusOne([1,0,9]))  # Expected: [1,1,0]\n",
    "print(lc.plusOne([1,2,9]))  # Expected: [1,3,0]\n",
    "print(lc.plusOne([0,0,0]))  # Expected: [0,0,1]\n",
    "print(lc.plusOne([9,9,9]))  # Expected: [1,0,0,0]\n",
    "print(lc.plusOne([0,0,1]))  # Expected: [0,0,2]\n",
    "print(lc.plusOne([9]))  # Expected: [1, 0]"
   ]
  },
  {
   "cell_type": "markdown",
   "metadata": {},
   "source": [
    "## 5. Integer Square Root Calculation"
   ]
  },
  {
   "cell_type": "code",
   "execution_count": 90,
   "metadata": {},
   "outputs": [
    {
     "name": "stdout",
     "output_type": "stream",
     "text": [
      "2\n",
      "2\n",
      "1\n",
      "3\n",
      "3\n",
      "3\n",
      "4\n",
      "4\n"
     ]
    }
   ],
   "source": [
    "# Testing the mySqrt function\n",
    "\n",
    "\n",
    "print(lc.mySqrt(4))  # Expected: 2\n",
    "print(lc.mySqrt(8))  # Expected: 2\n",
    "print(lc.mySqrt(1))  # Expected: 1\n",
    "print(lc.mySqrt(9))  # Expected: 3\n",
    "print(lc.mySqrt(15))  # Expected: 3\n",
    "print(lc.mySqrt(10))  # Expected: 3\n",
    "print(lc.mySqrt(20))  # Expected: 4\n",
    "print(lc.mySqrt(16))  # Expected: 4"
   ]
  },
  {
   "cell_type": "markdown",
   "metadata": {},
   "source": [
    "## 6. Find Median of Two Sorted Arrays"
   ]
  },
  {
   "cell_type": "code",
   "execution_count": 91,
   "metadata": {},
   "outputs": [
    {
     "name": "stdout",
     "output_type": "stream",
     "text": [
      "m = 2\n",
      "m = 2\n",
      "m = 2.5\n",
      "m = 3.5\n",
      "m = 4.5\n",
      "m = 5.5\n",
      "m = 5\n"
     ]
    }
   ],
   "source": [
    "# Testing the findMedianSortedArrays function\n",
    "\n",
    "print(\"m =\",lc.findMedianSortedArrays([1,3],[2]))    # Expected: 2.0\n",
    "print(\"m =\",lc.findMedianSortedArrays([1,2],[3]))    # Expected: 2.0\n",
    "print(\"m =\",lc.findMedianSortedArrays([1,2],[3,4]))  # Expected: 2.5\n",
    "print(\"m =\",lc.findMedianSortedArrays([1,2,3],[4,5,6]))  # Expected: 3.5\n",
    "print(\"m =\",lc.findMedianSortedArrays([1,2,3,4],[5,6,7,8]))  # Expected: 4.5\n",
    "print(\"m =\",lc.findMedianSortedArrays([1,2,3,4,5],[6,7,8,9,10]))  # Expected: 5.5\n",
    "print(\"m =\",lc.findMedianSortedArrays([1,2,3,4,5],[6,7,8,9]))  # Expected: 5.0"
   ]
  },
  {
   "cell_type": "markdown",
   "metadata": {},
   "source": [
    "## 7. Integer to Roman Numeral Conversion"
   ]
  },
  {
   "cell_type": "code",
   "execution_count": 92,
   "metadata": {},
   "outputs": [
    {
     "name": "stdout",
     "output_type": "stream",
     "text": [
      "Integer to Roman Numeral Conversion tests:\n",
      "3 = III\n",
      "4 = IV\n",
      "9 = IX\n",
      "1994 = MCMXCIV\n",
      "58 = LVIII\n",
      "199 = CXCIX\n",
      "2023 = MMXXIII\n"
     ]
    }
   ],
   "source": [
    "# Integer to Roman numeral conversion\n",
    "\n",
    "print(\"Integer to Roman Numeral Conversion tests:\")\n",
    "\n",
    "\n",
    "print(\"3 =\",lc.intToRoman(3))     # Expected: 'III'\n",
    "print(\"4 =\",lc.intToRoman(4))     # Expected: 'IV'\n",
    "print(\"9 =\",lc.intToRoman(9))     # Expected: 'IX'\n",
    "print(\"1994 =\",lc.intToRoman(1994))  # Expected: 'MCMXCIV'\n",
    "print(\"58 =\",lc.intToRoman(58))    # Expected: 'LVIII'\n",
    "print(\"199 =\",lc.intToRoman(199))  # Expected: 'CXCIX'\n",
    "print(\"2023 =\",lc.intToRoman(2023))  # Expected: 'MMXXIII'\n"
   ]
  },
  {
   "cell_type": "markdown",
   "metadata": {},
   "source": [
    "## 8. Roman Numeral to Integer Conversion"
   ]
  },
  {
   "cell_type": "code",
   "execution_count": 93,
   "metadata": {},
   "outputs": [
    {
     "name": "stdout",
     "output_type": "stream",
     "text": [
      "Roman to Integer Tests:\n",
      "XII = 12\n",
      "XLII = 42\n",
      "CXXIII = 123\n",
      "DCCCXLVIII = 848\n",
      "MCMXCIV = 1994\n",
      "LVIII = 58\n",
      "III = 3\n",
      "IX = 9\n",
      "XL = 40\n",
      "MMXXIV = 2024\n"
     ]
    }
   ],
   "source": [
    "# Roman to Integer conversion\n",
    "\n",
    "print(\"Roman to Integer Tests:\")\n",
    "print(\"XII =\", lc.romanToInt(\"XII\"))      # Expected: 12\n",
    "print(\"XLII =\", lc.romanToInt(\"XLII\"))    # Expected: 42\n",
    "print(\"CXXIII =\", lc.romanToInt(\"CXXIII\"))  # Expected: 123\n",
    "print(\"DCCCXLVIII =\", lc.romanToInt(\"DCCCXLVIII\"))  # Expected: 848\n",
    "print(\"MCMXCIV =\", lc.romanToInt(\"MCMXCIV\"))  # Expected: 1994\n",
    "print(\"LVIII =\", lc.romanToInt(\"LVIII\"))    # Expected: 58\n",
    "print(\"III =\", lc.romanToInt(\"III\"))      # Expected: 3\n",
    "print(\"IX =\", lc.romanToInt(\"IX\"))       # Expected: 9\n",
    "print(\"XL =\", lc.romanToInt(\"XL\"))       # Expected: 40\n",
    "print(\"MMXXIV =\", lc.romanToInt(\"MMXXIV\"))   # Expected: 2024"
   ]
  },
  {
   "cell_type": "markdown",
   "metadata": {},
   "source": [
    "## 9. Reverse an integer "
   ]
  },
  {
   "cell_type": "code",
   "execution_count": 94,
   "metadata": {},
   "outputs": [
    {
     "name": "stdout",
     "output_type": "stream",
     "text": [
      "Reverse Integer Tests:\n"
     ]
    },
    {
     "ename": "AttributeError",
     "evalue": "'LeetCode' object has no attribute 'reverse'",
     "output_type": "error",
     "traceback": [
      "\u001b[31m---------------------------------------------------------------------------\u001b[39m",
      "\u001b[31mAttributeError\u001b[39m                            Traceback (most recent call last)",
      "\u001b[36mCell\u001b[39m\u001b[36m \u001b[39m\u001b[32mIn[94]\u001b[39m\u001b[32m, line 4\u001b[39m\n\u001b[32m      1\u001b[39m \u001b[38;5;66;03m# Testing the reverse integer function\u001b[39;00m\n\u001b[32m      2\u001b[39m \u001b[38;5;28mprint\u001b[39m(\u001b[33m\"\u001b[39m\u001b[33mReverse Integer Tests:\u001b[39m\u001b[33m\"\u001b[39m)\n\u001b[32m----> \u001b[39m\u001b[32m4\u001b[39m \u001b[38;5;28mprint\u001b[39m(\u001b[43mlc\u001b[49m\u001b[43m.\u001b[49m\u001b[43mreverse\u001b[49m(\u001b[32m123\u001b[39m))\n\u001b[32m      5\u001b[39m \u001b[38;5;28mprint\u001b[39m(lc.reverse(-\u001b[32m456\u001b[39m))\n\u001b[32m      6\u001b[39m \u001b[38;5;28mprint\u001b[39m(lc.reverse(\u001b[32m1534236469\u001b[39m))  \u001b[38;5;66;03m# Example of overflow\u001b[39;00m\n",
      "\u001b[31mAttributeError\u001b[39m: 'LeetCode' object has no attribute 'reverse'"
     ]
    }
   ],
   "source": [
    "# Testing the reverse integer function\n",
    "print(\"Reverse Integer Tests:\")\n",
    "\n",
    "print(lc.reverse(123))\n",
    "print(lc.reverse(-456))\n",
    "print(lc.reverse(1534236469))  # Example of overflow"
   ]
  },
  {
   "cell_type": "code",
   "execution_count": null,
   "metadata": {},
   "outputs": [],
   "source": []
  }
 ],
 "metadata": {
  "kernelspec": {
   "display_name": ".leet",
   "language": "python",
   "name": "python3"
  },
  "language_info": {
   "codemirror_mode": {
    "name": "ipython",
    "version": 3
   },
   "file_extension": ".py",
   "mimetype": "text/x-python",
   "name": "python",
   "nbconvert_exporter": "python",
   "pygments_lexer": "ipython3",
   "version": "3.13.2"
  }
 },
 "nbformat": 4,
 "nbformat_minor": 2
}
